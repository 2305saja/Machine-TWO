{
  "cells": [
    {
      "cell_type": "code",
      "execution_count": null,
      "metadata": {
        "colab": {
          "background_save": true
        },
        "id": "4F4g5sePdZ8v"
      },
      "outputs": [],
      "source": [
        "import pandas as pd\n",
        "import numpy as np\n",
        "from sklearn.impute import SimpleImputer\n",
        "from sklearn.preprocessing import StandardScaler\n",
        "import matplotlib.pyplot as plt\n",
        "from sklearn.decomposition import PCA\n",
        "from sklearn.manifold import TSNE\n",
        "from sklearn.cluster import KMeans\n",
        "from sklearn.metrics import silhouette_score"
      ]
    },
    {
      "cell_type": "code",
      "execution_count": null,
      "metadata": {
        "colab": {
          "background_save": true
        },
        "id": "YhGnercoeD8b"
      },
      "outputs": [],
      "source": [
        "credits=pd.read_csv('creditcard.csv')\n",
        "print(credits.head())\n",
        "print(credits.shape)\n",
        "print(credits.describe())\n",
        "print(credits.info())\n",
        "\n",
        "#using some tools to take idea for data"
      ]
    },
    {
      "cell_type": "code",
      "execution_count": null,
      "metadata": {
        "colab": {
          "background_save": true
        },
        "id": "PpMkuJbQeTWX"
      },
      "outputs": [],
      "source": [
        "credits.isnull().sum()\n"
      ]
    },
    {
      "cell_type": "code",
      "execution_count": null,
      "metadata": {
        "colab": {
          "background_save": true
        },
        "id": "uSPfkUXuew8d"
      },
      "outputs": [],
      "source": [
        "Continuous_Columns = [\n",
        "  'V1','V2','V3','V4','V5', 'V6', 'V7', 'V8', 'V9', 'V10', 'V11', 'V12', 'V13', 'V14',\n",
        "           'V15', 'V16', 'V17', 'V18', 'V19', 'V20', 'V21', 'V22', 'V23',\n",
        "           'V24', 'V25', 'V26', 'V27', 'V28','Amount']\n",
        "Carde_imputed = SimpleImputer(missing_values=np.nan, strategy=\"mean\")\n",
        "\n",
        "credits[Continuous_Columns]= Carde_imputed.fit_transform(credits[Continuous_Columns])\n",
        "credits"
      ]
    },
    {
      "cell_type": "code",
      "execution_count": null,
      "metadata": {
        "colab": {
          "background_save": true
        },
        "id": "dqUCcphVgR1-"
      },
      "outputs": [],
      "source": [
        "credits.isnull().sum().value_counts()"
      ]
    },
    {
      "cell_type": "code",
      "execution_count": null,
      "metadata": {
        "colab": {
          "background_save": true
        },
        "id": "VJXnDeF0hZmM"
      },
      "outputs": [],
      "source": [
        "Classes=credits['Class'].value_counts()\n",
        "Classes"
      ]
    },
    {
      "cell_type": "code",
      "execution_count": null,
      "metadata": {
        "colab": {
          "background_save": true
        },
        "id": "u6LP-i6vl1r7"
      },
      "outputs": [],
      "source": [
        "plt.figure(figsize=(5,5))\n",
        "plt.pie(Classes,labels=['Not Fraud','Fraud'],autopct='%1.2f%%')"
      ]
    },
    {
      "cell_type": "code",
      "execution_count": null,
      "metadata": {
        "colab": {
          "background_save": true
        },
        "id": "03EHLZ9Dma1Q"
      },
      "outputs": [],
      "source": [
        "# from counting the classes we can show the data has two classes the data is not balance\n",
        "#we support this with pie plot"
      ]
    },
    {
      "cell_type": "code",
      "execution_count": null,
      "metadata": {
        "colab": {
          "background_save": true
        },
        "id": "zK-X45KomrMV"
      },
      "outputs": [],
      "source": [
        "B_scaling=[col for col in credits.columns if col != 'Class']\n",
        "credits[B_scaling].hist(bins=50,figsize=(15,15),color='cyan')\n",
        "plt.tight_layout()\n",
        "\n",
        "#plot to show data befor scaling"
      ]
    },
    {
      "cell_type": "code",
      "execution_count": null,
      "metadata": {
        "colab": {
          "background_save": true
        },
        "id": "aQ1xfzzNetUe"
      },
      "outputs": [],
      "source": [
        "credit_card=credits.drop('Class',axis=1)\n",
        "Scaling=StandardScaler()\n",
        "Credits_Scaled=Scaling.fit_transform(credit_card)\n",
        "Credits_Scaled\n",
        "#we drop column of class because if apply scaling on class the class it will be ruined\n",
        "#we apply scale to all data without class we chose StandardScaler not MinMaxScaler  becuas\n",
        "#It gives more accurate results in PCA and K-Means.\n",
        "#It scales all features to the same variance scale, without distorting the distribution."
      ]
    },
    {
      "cell_type": "code",
      "execution_count": null,
      "metadata": {
        "colab": {
          "background_save": true
        },
        "id": "BCbY7-twk3x9"
      },
      "outputs": [],
      "source": [
        "A_Scaling=pd.DataFrame(Credits_Scaled,columns=credit_card.columns)\n",
        "A_Scaling.hist(bins=50,figsize=(15,15),color='pink')\n",
        "plt.tight_layout()\n",
        "#plot to show data after scaling\n",
        "# The distributions after scaling show that all features are at the same scale (around zero),\n",
        "#which is essential for improving the accuracy of algorithms like PCA and KMeans."
      ]
    },
    {
      "cell_type": "code",
      "execution_count": null,
      "metadata": {
        "colab": {
          "background_save": true
        },
        "id": "JJDbTTu_ZX5I"
      },
      "outputs": [],
      "source": [
        "plt.figure(figsize=(8, 8))\n",
        "plt.scatter(credits.iloc[:, 0], credits.iloc[:, 1], c=credits['Class'])\n",
        "plt.xlabel(\"First principal component\")\n",
        "plt.ylabel(\"Second principal component\")\n",
        "plt.title(\"PCA of Credit Card Transactions\")\n",
        "plt.colorbar(label=\"Class\")\n",
        "plt.show()"
      ]
    },
    {
      "cell_type": "code",
      "execution_count": null,
      "metadata": {
        "colab": {
          "background_save": true
        },
        "id": "4VBNzR12lu1J"
      },
      "outputs": [],
      "source": [
        "# pca = PCA(n_components=2)\n",
        "# Card_pca = pca.fit_transform(A_Scaling[Continuous_Columns])\n",
        "# Card_pca.shape"
      ]
    },
    {
      "cell_type": "code",
      "execution_count": null,
      "metadata": {
        "colab": {
          "background_save": true
        },
        "id": "fBJ58oWM_AaL"
      },
      "outputs": [],
      "source": [
        "# explained_var_ratio = pca.explained_variance_ratio_\n",
        "\n",
        "# cumulative_variance = np.cumsum(explained_var_ratio)\n",
        "# print(explained_var_ratio)\n",
        "# print(\"______________________________\\n\")\n",
        "# print(cumulative_variance)"
      ]
    },
    {
      "cell_type": "code",
      "execution_count": null,
      "metadata": {
        "colab": {
          "background_save": true
        },
        "id": "HekjrM3Y_EAf"
      },
      "outputs": [],
      "source": [
        "# n_components_90 = np.argmax(cumulative_variance >= 0.90)+1\n",
        "# n_components_95 = np.argmax(cumulative_variance >= 0.95)+1\n",
        "\n",
        "# print(f\" 90% variance: {n_components_90}\")\n",
        "# print(f\" 95% variance: {n_components_95}\")\n"
      ]
    },
    {
      "cell_type": "code",
      "execution_count": null,
      "metadata": {
        "colab": {
          "background_save": true
        },
        "id": "t_5pOFSQGihZ"
      },
      "outputs": [],
      "source": [
        "from sklearn.decomposition import PCA\n",
        "import numpy as np\n",
        "\n",
        "pca = PCA()\n",
        "Card_pca = pca.fit_transform(A_Scaling[Continuous_Columns])\n",
        "\n",
        "explained_var_ratio = pca.explained_variance_ratio_\n",
        "cumulative_variance = np.cumsum(explained_var_ratio)\n",
        "\n",
        "print(\"Explained variance ratio per component:\")\n",
        "print(explained_var_ratio)\n",
        "print(\"______________________________\\n\")\n",
        "print(\"Cumulative variance:\")\n",
        "print(cumulative_variance)\n",
        "\n",
        "n_components_90 = np.argmax(cumulative_variance >= 0.90) + 1\n",
        "n_components_95 = np.argmax(cumulative_variance >= 0.95) + 1\n",
        "\n",
        "print(f\"Minimum components to preserve 90% variance: {n_components_90}\")\n",
        "print(f\"Minimum components to preserve 95% variance: {n_components_95}\")\n"
      ]
    },
    {
      "cell_type": "code",
      "execution_count": null,
      "metadata": {
        "colab": {
          "background_save": true
        },
        "id": "1gLbKuO5NSIV"
      },
      "outputs": [],
      "source": [
        "plt.figure(figsize=(8, 8))\n",
        "plt.scatter(Card_pca[:, 0], Card_pca[:, 1], c=credits['Class'])\n",
        "plt.xlabel(\"First principal component\")\n",
        "plt.ylabel(\"Second principal component\")\n",
        "plt.title(\"PCA of Credit Card Transactions\")\n",
        "plt.colorbar(label=\"Class\")\n",
        "plt.show()"
      ]
    },
    {
      "cell_type": "code",
      "execution_count": null,
      "metadata": {
        "colab": {
          "background_save": true
        },
        "collapsed": true,
        "id": "f2m_wDtzY-Lr"
      },
      "outputs": [],
      "source": [
        "print(\"PCA component shape: {}\".format(pca.components_.shape))"
      ]
    },
    {
      "cell_type": "code",
      "execution_count": null,
      "metadata": {
        "colab": {
          "background_save": true
        },
        "collapsed": true,
        "id": "aVTQSD-lahT5"
      },
      "outputs": [],
      "source": [
        "print(\"PCA components:\\n{}\".format(pca.components_))"
      ]
    },
    {
      "cell_type": "code",
      "execution_count": null,
      "metadata": {
        "colab": {
          "background_save": true
        },
        "id": "9EimnjFv2bOM"
      },
      "outputs": [],
      "source": [
        "from sklearn.manifold import TSNE\n",
        "tsne = TSNE(perplexity=30, n_iter=300, random_state=42)\n",
        "credits_tsne = tsne.fit_transform(sampled_reduced)\n",
        "\n",
        "credits_tsne"
      ]
    },
    {
      "cell_type": "code",
      "execution_count": null,
      "metadata": {
        "colab": {
          "background_save": true
        },
        "id": "IIu5JweR3JS5"
      },
      "outputs": [],
      "source": [
        "plt.figure(figsize=(10, 8))\n",
        "scatter = plt.scatter(credits_tsne[:, 0], credits_tsne[:, 1],\n",
        "                      c=credits['Class'], cmap='coolwarm', alpha=0.6)\n",
        "plt.colorbar(scatter, label='Class')\n",
        "plt.xlabel(\"t-SNE feature 1\")\n",
        "plt.ylabel(\"t-SNE feature 2\")\n",
        "plt.title(\"t-SNE Visualization of Credit Card Transactions\")\n",
        "plt.grid(True)\n",
        "plt.show()\n"
      ]
    }
  ],
  "metadata": {
    "colab": {
      "provenance": []
    },
    "kernelspec": {
      "display_name": "Python 3",
      "name": "python3"
    },
    "language_info": {
      "name": "python"
    }
  },
  "nbformat": 4,
  "nbformat_minor": 0
}