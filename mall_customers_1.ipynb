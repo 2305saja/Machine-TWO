{
  "nbformat": 4,
  "nbformat_minor": 0,
  "metadata": {
    "colab": {
      "provenance": []
    },
    "kernelspec": {
      "name": "python3",
      "display_name": "Python 3"
    },
    "language_info": {
      "name": "python"
    }
  },
  "cells": [
    {
      "cell_type": "code",
      "execution_count": null,
      "metadata": {
        "id": "XpM3997XZJw7"
      },
      "outputs": [],
      "source": [
        "import pandas as pd\n",
        "import numpy as np\n",
        "from sklearn.impute import SimpleImputer\n",
        "from sklearn.preprocessing import StandardScaler\n",
        "import matplotlib.pyplot as plt\n",
        "from sklearn.decomposition import PCA\n"
      ]
    },
    {
      "cell_type": "code",
      "source": [
        "mall_customers = pd.read_csv('Mall_Customers.csv')\n",
        "print(mall_customers.head())\n",
        "print(mall_customers.shape)\n",
        "print(mall_customers.describe())\n",
        "print(mall_customers.info())"
      ],
      "metadata": {
        "colab": {
          "base_uri": "https://localhost:8080/"
        },
        "id": "aFLFXZpqZa3m",
        "outputId": "f24cb804-35b5-4273-c6c1-ad4c2c497470"
      },
      "execution_count": null,
      "outputs": [
        {
          "output_type": "stream",
          "name": "stdout",
          "text": [
            "   CustomerID  Gender  Age  Annual Income (k$)  Spending Score (1-100)\n",
            "0           1    Male   19                  15                      39\n",
            "1           2    Male   21                  15                      81\n",
            "2           3  Female   20                  16                       6\n",
            "3           4  Female   23                  16                      77\n",
            "4           5  Female   31                  17                      40\n",
            "(200, 5)\n",
            "       CustomerID         Age  Annual Income (k$)  Spending Score (1-100)\n",
            "count  200.000000  200.000000          200.000000              200.000000\n",
            "mean   100.500000   38.850000           60.560000               50.200000\n",
            "std     57.879185   13.969007           26.264721               25.823522\n",
            "min      1.000000   18.000000           15.000000                1.000000\n",
            "25%     50.750000   28.750000           41.500000               34.750000\n",
            "50%    100.500000   36.000000           61.500000               50.000000\n",
            "75%    150.250000   49.000000           78.000000               73.000000\n",
            "max    200.000000   70.000000          137.000000               99.000000\n",
            "<class 'pandas.core.frame.DataFrame'>\n",
            "RangeIndex: 200 entries, 0 to 199\n",
            "Data columns (total 5 columns):\n",
            " #   Column                  Non-Null Count  Dtype \n",
            "---  ------                  --------------  ----- \n",
            " 0   CustomerID              200 non-null    int64 \n",
            " 1   Gender                  200 non-null    object\n",
            " 2   Age                     200 non-null    int64 \n",
            " 3   Annual Income (k$)      200 non-null    int64 \n",
            " 4   Spending Score (1-100)  200 non-null    int64 \n",
            "dtypes: int64(4), object(1)\n",
            "memory usage: 7.9+ KB\n",
            "None\n"
          ]
        }
      ]
    },
    {
      "cell_type": "markdown",
      "source": [
        "Handling missing values:"
      ],
      "metadata": {
        "id": "fnC6BdLJXyDM"
      }
    },
    {
      "cell_type": "code",
      "source": [
        "missing_values = mall_customers.isnull().sum()\n",
        "missing_values[missing_values > 0]"
      ],
      "metadata": {
        "colab": {
          "base_uri": "https://localhost:8080/",
          "height": 84
        },
        "id": "ElAHhQDjeBj-",
        "outputId": "bd67ee39-bea8-4d2d-db15-8f992a3c2392"
      },
      "execution_count": null,
      "outputs": [
        {
          "output_type": "execute_result",
          "data": {
            "text/plain": [
              "Series([], dtype: int64)"
            ],
            "text/html": [
              "<div>\n",
              "<style scoped>\n",
              "    .dataframe tbody tr th:only-of-type {\n",
              "        vertical-align: middle;\n",
              "    }\n",
              "\n",
              "    .dataframe tbody tr th {\n",
              "        vertical-align: top;\n",
              "    }\n",
              "\n",
              "    .dataframe thead th {\n",
              "        text-align: right;\n",
              "    }\n",
              "</style>\n",
              "<table border=\"1\" class=\"dataframe\">\n",
              "  <thead>\n",
              "    <tr style=\"text-align: right;\">\n",
              "      <th></th>\n",
              "      <th>0</th>\n",
              "    </tr>\n",
              "  </thead>\n",
              "  <tbody>\n",
              "  </tbody>\n",
              "</table>\n",
              "</div><br><label><b>dtype:</b> int64</label>"
            ]
          },
          "metadata": {},
          "execution_count": 121
        }
      ]
    },
    {
      "cell_type": "markdown",
      "source": [
        "Convert 'Gender' column to numeric:"
      ],
      "metadata": {
        "id": "2SpkCVydYA2w"
      }
    },
    {
      "cell_type": "code",
      "source": [
        "from sklearn.preprocessing import LabelEncoder\n",
        "label_encoder = LabelEncoder()\n",
        "mall_customers['Gender'] = label_encoder.fit_transform(mall_customers['Gender'])"
      ],
      "metadata": {
        "id": "LdT1oIk5YAeO"
      },
      "execution_count": null,
      "outputs": []
    },
    {
      "cell_type": "markdown",
      "source": [],
      "metadata": {
        "id": "DhKrqAi8hKAj"
      }
    },
    {
      "cell_type": "code",
      "source": [
        "import matplotlib.pyplot as plt\n",
        "gender_counts = mall_customers['Gender'].value_counts()\n",
        "print(gender_counts)\n",
        "\n",
        "plt.figure(figsize=(7,7))\n",
        "plt.pie(gender_counts, labels=['Female(0)', 'Male (1)'], autopct='%1.2f%%', colors=['skyblue', 'red'])\n",
        "plt.title('Gender Distribution')\n",
        "plt.show()"
      ],
      "metadata": {
        "colab": {
          "base_uri": "https://localhost:8080/",
          "height": 667
        },
        "id": "Ywe8QDXbhxkQ",
        "outputId": "36a3d001-92dd-4a84-a375-f2a4048f504d"
      },
      "execution_count": null,
      "outputs": [
        {
          "output_type": "stream",
          "name": "stdout",
          "text": [
            "Gender\n",
            "0    112\n",
            "1     88\n",
            "Name: count, dtype: int64\n"
          ]
        },
        {
          "output_type": "display_data",
          "data": {
            "text/plain": [
              "<Figure size 700x700 with 1 Axes>"
            ],
            "image/png": "[encoded data removed]"
          },
          "metadata": {}
        }
      ]
    },
    {
      "cell_type": "code",
      "source": [
        "mall_customers= mall_customers.drop(columns=['CustomerID','Gender'],axis=1)"
      ],
      "metadata": {
        "id": "dxJ_1lWQ2qfQ"
      },
      "execution_count": null,
      "outputs": []
    },
    {
      "cell_type": "markdown",
      "source": [],
      "metadata": {
        "id": "HZUeWBRllzY_"
      }
    },
    {
      "cell_type": "markdown",
      "source": [
        "standardScaler was applied to scale the data,to making it ready"
      ],
      "metadata": {
        "id": "yrfXwqzEly3Z"
      }
    },
    {
      "cell_type": "code",
      "source": [],
      "metadata": {
        "id": "YR5yFg-f5QMw"
      },
      "execution_count": null,
      "outputs": []
    },
    {
      "cell_type": "code",
      "source": [
        "scaler = StandardScaler()\n",
        "mall_customers_scaled = scaler.fit_transform(mall_customers)\n",
        "print(mall_customers_scaled)"
      ],
      "metadata": {
        "colab": {
          "base_uri": "https://localhost:8080/"
        },
        "id": "rTbRPB23lyEp",
        "outputId": "580ff75c-78ee-4bf0-ccc2-2a653dbd147d"
      },
      "execution_count": null,
      "outputs": [
        {
          "output_type": "stream",
          "name": "stdout",
          "text": [
            "[[-1.42456879 -1.73899919 -0.43480148]\n",
            " [-1.28103541 -1.73899919  1.19570407]\n",
            " [-1.3528021  -1.70082976 -1.71591298]\n",
            " [-1.13750203 -1.70082976  1.04041783]\n",
            " [-0.56336851 -1.66266033 -0.39597992]\n",
            " [-1.20926872 -1.66266033  1.00159627]\n",
            " [-0.27630176 -1.62449091 -1.71591298]\n",
            " [-1.13750203 -1.62449091  1.70038436]\n",
            " [ 1.80493225 -1.58632148 -1.83237767]\n",
            " [-0.6351352  -1.58632148  0.84631002]\n",
            " [ 2.02023231 -1.58632148 -1.4053405 ]\n",
            " [-0.27630176 -1.58632148  1.89449216]\n",
            " [ 1.37433211 -1.54815205 -1.36651894]\n",
            " [-1.06573534 -1.54815205  1.04041783]\n",
            " [-0.13276838 -1.54815205 -1.44416206]\n",
            " [-1.20926872 -1.54815205  1.11806095]\n",
            " [-0.27630176 -1.50998262 -0.59008772]\n",
            " [-1.3528021  -1.50998262  0.61338066]\n",
            " [ 0.94373197 -1.43364376 -0.82301709]\n",
            " [-0.27630176 -1.43364376  1.8556706 ]\n",
            " [-0.27630176 -1.39547433 -0.59008772]\n",
            " [-0.99396865 -1.39547433  0.88513158]\n",
            " [ 0.51313183 -1.3573049  -1.75473454]\n",
            " [-0.56336851 -1.3573049   0.88513158]\n",
            " [ 1.08726535 -1.24279661 -1.4053405 ]\n",
            " [-0.70690189 -1.24279661  1.23452563]\n",
            " [ 0.44136514 -1.24279661 -0.7065524 ]\n",
            " [-0.27630176 -1.24279661  0.41927286]\n",
            " [ 0.08253169 -1.20462718 -0.74537397]\n",
            " [-1.13750203 -1.20462718  1.42863343]\n",
            " [ 1.51786549 -1.16645776 -1.7935561 ]\n",
            " [-1.28103541 -1.16645776  0.88513158]\n",
            " [ 1.01549866 -1.05194947 -1.7935561 ]\n",
            " [-1.49633548 -1.05194947  1.62274124]\n",
            " [ 0.7284319  -1.05194947 -1.4053405 ]\n",
            " [-1.28103541 -1.05194947  1.19570407]\n",
            " [ 0.22606507 -1.01378004 -1.28887582]\n",
            " [-0.6351352  -1.01378004  0.88513158]\n",
            " [-0.20453507 -0.89927175 -0.93948177]\n",
            " [-1.3528021  -0.89927175  0.96277471]\n",
            " [ 1.87669894 -0.86110232 -0.59008772]\n",
            " [-1.06573534 -0.86110232  1.62274124]\n",
            " [ 0.65666521 -0.82293289 -0.55126616]\n",
            " [-0.56336851 -0.82293289  0.41927286]\n",
            " [ 0.7284319  -0.82293289 -0.86183865]\n",
            " [-1.06573534 -0.82293289  0.5745591 ]\n",
            " [ 0.80019859 -0.78476346  0.18634349]\n",
            " [-0.85043527 -0.78476346 -0.12422899]\n",
            " [-0.70690189 -0.78476346 -0.3183368 ]\n",
            " [-0.56336851 -0.78476346 -0.3183368 ]\n",
            " [ 0.7284319  -0.70842461  0.06987881]\n",
            " [-0.41983513 -0.70842461  0.38045129]\n",
            " [-0.56336851 -0.67025518  0.14752193]\n",
            " [ 1.4460988  -0.67025518  0.38045129]\n",
            " [ 0.80019859 -0.67025518 -0.20187212]\n",
            " [ 0.58489852 -0.67025518 -0.35715836]\n",
            " [ 0.87196528 -0.63208575 -0.00776431]\n",
            " [ 2.16376569 -0.63208575 -0.16305055]\n",
            " [-0.85043527 -0.55574689  0.03105725]\n",
            " [ 1.01549866 -0.55574689 -0.16305055]\n",
            " [ 2.23553238 -0.55574689  0.22516505]\n",
            " [-1.42456879 -0.55574689  0.18634349]\n",
            " [ 2.02023231 -0.51757746  0.06987881]\n",
            " [ 1.08726535 -0.51757746  0.34162973]\n",
            " [ 1.73316556 -0.47940803  0.03105725]\n",
            " [-1.49633548 -0.47940803  0.34162973]\n",
            " [ 0.29783176 -0.47940803 -0.00776431]\n",
            " [ 2.091999   -0.47940803 -0.08540743]\n",
            " [-1.42456879 -0.47940803  0.34162973]\n",
            " [-0.49160182 -0.47940803 -0.12422899]\n",
            " [ 2.23553238 -0.4412386   0.18634349]\n",
            " [ 0.58489852 -0.4412386  -0.3183368 ]\n",
            " [ 1.51786549 -0.40306917 -0.04658587]\n",
            " [ 1.51786549 -0.40306917  0.22516505]\n",
            " [ 1.4460988  -0.25039146 -0.12422899]\n",
            " [-0.92220196 -0.25039146  0.14752193]\n",
            " [ 0.44136514 -0.25039146  0.10870037]\n",
            " [ 0.08253169 -0.25039146 -0.08540743]\n",
            " [-1.13750203 -0.25039146  0.06987881]\n",
            " [ 0.7284319  -0.25039146 -0.3183368 ]\n",
            " [ 1.30256542 -0.25039146  0.03105725]\n",
            " [-0.06100169 -0.25039146  0.18634349]\n",
            " [ 2.02023231 -0.25039146 -0.35715836]\n",
            " [ 0.51313183 -0.25039146 -0.24069368]\n",
            " [-1.28103541 -0.25039146  0.26398661]\n",
            " [ 0.65666521 -0.25039146 -0.16305055]\n",
            " [ 1.15903204 -0.13588317  0.30280817]\n",
            " [-1.20926872 -0.13588317  0.18634349]\n",
            " [-0.34806844 -0.09771374  0.38045129]\n",
            " [ 0.80019859 -0.09771374 -0.16305055]\n",
            " [ 2.091999   -0.05954431  0.18634349]\n",
            " [-1.49633548 -0.05954431 -0.35715836]\n",
            " [ 0.65666521 -0.02137488 -0.04658587]\n",
            " [ 0.08253169 -0.02137488 -0.39597992]\n",
            " [-0.49160182 -0.02137488 -0.3183368 ]\n",
            " [-1.06573534 -0.02137488  0.06987881]\n",
            " [ 0.58489852 -0.02137488 -0.12422899]\n",
            " [-0.85043527 -0.02137488 -0.00776431]\n",
            " [ 0.65666521  0.01679455 -0.3183368 ]\n",
            " [-1.3528021   0.01679455 -0.04658587]\n",
            " [-1.13750203  0.05496398 -0.35715836]\n",
            " [ 0.7284319   0.05496398 -0.08540743]\n",
            " [ 2.02023231  0.05496398  0.34162973]\n",
            " [-0.92220196  0.05496398  0.18634349]\n",
            " [ 0.7284319   0.05496398  0.22516505]\n",
            " [-1.28103541  0.05496398 -0.3183368 ]\n",
            " [ 1.94846562  0.09313341 -0.00776431]\n",
            " [ 1.08726535  0.09313341 -0.16305055]\n",
            " [ 2.091999    0.09313341 -0.27951524]\n",
            " [ 1.94846562  0.09313341 -0.08540743]\n",
            " [ 1.87669894  0.09313341  0.06987881]\n",
            " [-1.42456879  0.09313341  0.14752193]\n",
            " [-0.06100169  0.13130284 -0.3183368 ]\n",
            " [-1.42456879  0.13130284 -0.16305055]\n",
            " [-1.49633548  0.16947227 -0.08540743]\n",
            " [-1.42456879  0.16947227 -0.00776431]\n",
            " [ 1.73316556  0.16947227 -0.27951524]\n",
            " [ 0.7284319   0.16947227  0.34162973]\n",
            " [ 0.87196528  0.24581112 -0.27951524]\n",
            " [ 0.80019859  0.24581112  0.26398661]\n",
            " [-0.85043527  0.24581112  0.22516505]\n",
            " [-0.06100169  0.24581112 -0.39597992]\n",
            " [ 0.08253169  0.32214998  0.30280817]\n",
            " [ 0.010765    0.32214998  1.58391968]\n",
            " [-1.13750203  0.36031941 -0.82301709]\n",
            " [-0.56336851  0.36031941  1.04041783]\n",
            " [ 0.29783176  0.39848884 -0.59008772]\n",
            " [ 0.08253169  0.39848884  1.73920592]\n",
            " [ 1.4460988   0.39848884 -1.52180518]\n",
            " [-0.06100169  0.39848884  0.96277471]\n",
            " [ 0.58489852  0.39848884 -1.5994483 ]\n",
            " [ 0.010765    0.39848884  0.96277471]\n",
            " [-0.99396865  0.43665827 -0.62890928]\n",
            " [-0.56336851  0.43665827  0.80748846]\n",
            " [-1.3528021   0.4748277  -1.75473454]\n",
            " [-0.70690189  0.4748277   1.46745499]\n",
            " [ 0.36959845  0.4748277  -1.67709142]\n",
            " [-0.49160182  0.4748277   0.88513158]\n",
            " [-1.42456879  0.51299713 -1.56062674]\n",
            " [-0.27630176  0.51299713  0.84631002]\n",
            " [ 1.30256542  0.55116656 -1.75473454]\n",
            " [-0.49160182  0.55116656  1.6615628 ]\n",
            " [-0.77866858  0.58933599 -0.39597992]\n",
            " [-0.49160182  0.58933599  1.42863343]\n",
            " [-0.99396865  0.62750542 -1.48298362]\n",
            " [-0.77866858  0.62750542  1.81684904]\n",
            " [ 0.65666521  0.62750542 -0.55126616]\n",
            " [-0.49160182  0.62750542  0.92395314]\n",
            " [-0.34806844  0.66567484 -1.09476801]\n",
            " [-0.34806844  0.66567484  1.54509812]\n",
            " [ 0.29783176  0.66567484 -1.28887582]\n",
            " [ 0.010765    0.66567484  1.46745499]\n",
            " [ 0.36959845  0.66567484 -1.17241113]\n",
            " [-0.06100169  0.66567484  1.00159627]\n",
            " [ 0.58489852  0.66567484 -1.32769738]\n",
            " [-0.85043527  0.66567484  1.50627656]\n",
            " [-0.13276838  0.66567484 -1.91002079]\n",
            " [-0.6351352   0.66567484  1.07923939]\n",
            " [-0.34806844  0.66567484 -1.91002079]\n",
            " [-0.6351352   0.66567484  0.88513158]\n",
            " [ 1.23079873  0.70384427 -0.59008772]\n",
            " [-0.70690189  0.70384427  1.27334719]\n",
            " [-1.42456879  0.78018313 -1.75473454]\n",
            " [-0.56336851  0.78018313  1.6615628 ]\n",
            " [ 0.80019859  0.93286085 -0.93948177]\n",
            " [-0.20453507  0.93286085  0.96277471]\n",
            " [ 0.22606507  0.97103028 -1.17241113]\n",
            " [-0.41983513  0.97103028  1.73920592]\n",
            " [-0.20453507  1.00919971 -0.90066021]\n",
            " [-0.49160182  1.00919971  0.49691598]\n",
            " [ 0.08253169  1.00919971 -1.44416206]\n",
            " [-0.77866858  1.00919971  0.96277471]\n",
            " [-0.20453507  1.00919971 -1.56062674]\n",
            " [-0.20453507  1.00919971  1.62274124]\n",
            " [ 0.94373197  1.04736914 -1.44416206]\n",
            " [-0.6351352   1.04736914  1.38981187]\n",
            " [ 1.37433211  1.04736914 -1.36651894]\n",
            " [-0.85043527  1.04736914  0.72984534]\n",
            " [ 1.4460988   1.23821628 -1.4053405 ]\n",
            " [-0.27630176  1.23821628  1.54509812]\n",
            " [-0.13276838  1.390894   -0.7065524 ]\n",
            " [-0.49160182  1.390894    1.38981187]\n",
            " [ 0.51313183  1.42906343 -1.36651894]\n",
            " [-0.70690189  1.42906343  1.46745499]\n",
            " [ 0.15429838  1.46723286 -0.43480148]\n",
            " [-0.6351352   1.46723286  1.81684904]\n",
            " [ 1.08726535  1.54357172 -1.01712489]\n",
            " [-0.77866858  1.54357172  0.69102378]\n",
            " [ 0.15429838  1.61991057 -1.28887582]\n",
            " [-0.20453507  1.61991057  1.35099031]\n",
            " [-0.34806844  1.61991057 -1.05594645]\n",
            " [-0.49160182  1.61991057  0.72984534]\n",
            " [-0.41983513  2.00160487 -1.63826986]\n",
            " [-0.06100169  2.00160487  1.58391968]\n",
            " [ 0.58489852  2.26879087 -1.32769738]\n",
            " [-0.27630176  2.26879087  1.11806095]\n",
            " [ 0.44136514  2.49780745 -0.86183865]\n",
            " [-0.49160182  2.49780745  0.92395314]\n",
            " [-0.49160182  2.91767117 -1.25005425]\n",
            " [-0.6351352   2.91767117  1.27334719]]\n"
          ]
        }
      ]
    },
    {
      "cell_type": "code",
      "source": [],
      "metadata": {
        "id": "EpbB8GQ55MH2"
      },
      "execution_count": null,
      "outputs": []
    },
    {
      "cell_type": "code",
      "source": [
        "mall_customers_scaled_df = pd.DataFrame(mall_customers_scaled, columns=mall_customers.columns)\n",
        "mall_customers_scaled_df.hist(bins=20, figsize=(12,8), color='pink')\n",
        "plt.suptitle(\"Feature Distributions AFTER Scaling\")\n",
        "plt.tight_layout()\n",
        "plt.show()"
      ],
      "metadata": {
        "colab": {
          "base_uri": "https://localhost:8080/",
          "height": 806
        },
        "id": "eQ_idwcPlEc0",
        "outputId": "db233a66-b132-472c-d8da-cf41ad0e32cd"
      },
      "execution_count": null,
      "outputs": [
        {
          "output_type": "display_data",
          "data": {
            "text/plain": [
              "<Figure size 1200x800 with 4 Axes>"
            ],
            "image/png": "[encoded data removed]"
          },
          "metadata": {}
        }
      ]
    },
    {
      "cell_type": "markdown",
      "source": [
        "Aply PCA:"
      ],
      "metadata": {
        "id": "zqpzBaOipXiQ"
      }
    },
    {
      "cell_type": "code",
      "source": [
        "from sklearn.decomposition import PCA\n",
        "pca = PCA()\n",
        "mall_customers_pca = pca.fit_transform(mall_customers_scaled)\n",
        "print(mall_customers_pca)\n",
        "print(mall_customers_pca.shape)"
      ],
      "metadata": {
        "colab": {
          "base_uri": "https://localhost:8080/"
        },
        "id": "hvdQSE3CpRjh",
        "outputId": "1456e1c3-943b-444c-d5e8-d19c918dc88b"
      },
      "execution_count": null,
      "outputs": [
        {
          "output_type": "stream",
          "name": "stdout",
          "text": [
            "[[-6.15720019e-01 -1.76348088e+00 -1.32423216e+00]\n",
            " [-1.66579271e+00 -1.82074695e+00 -6.99522397e-02]\n",
            " [ 3.37861909e-01 -1.67479894e+00 -2.17902515e+00]\n",
            " [-1.45657325e+00 -1.77242992e+00 -7.80291311e-02]\n",
            " [-3.84652078e-02 -1.66274012e+00 -6.87342188e-01]\n",
            " [-1.48168526e+00 -1.73500173e+00 -1.56022687e-01]\n",
            " [ 1.09461665e+00 -1.56610230e+00 -1.41732448e+00]\n",
            " [-1.92630736e+00 -1.72111049e+00  3.88982252e-01]\n",
            " [ 2.64517786e+00 -1.46084721e+00 -2.76348759e-02]\n",
            " [-9.70130513e-01 -1.63558108e+00  1.40621897e-01]\n",
            " [ 2.49568861e+00 -1.47048914e+00  4.26540046e-01]\n",
            " [-1.45688256e+00 -1.66436050e+00  1.13545426e+00]\n",
            " [ 2.01018729e+00 -1.45329897e+00 -2.58006040e-03]\n",
            " [-1.41321072e+00 -1.61776746e+00 -2.64524163e-02]\n",
            " [ 1.00042965e+00 -1.49579176e+00 -1.12327814e+00]\n",
            " [-1.56943170e+00 -1.62502669e+00 -7.30635263e-02]\n",
            " [ 2.94060318e-01 -1.49425585e+00 -6.20742845e-01]\n",
            " [-1.31624924e+00 -1.57216383e+00 -5.31173876e-01]\n",
            " [ 1.31669910e+00 -1.37243404e+00  7.77808625e-02]\n",
            " [-1.43679899e+00 -1.51039469e+00  1.10883138e+00]\n",
            " [ 2.88561175e-01 -1.37988135e+00 -6.20124739e-01]\n",
            " [-1.26018513e+00 -1.45723906e+00 -8.46637750e-02]\n",
            " [ 1.66684303e+00 -1.27396755e+00 -8.85050948e-01]\n",
            " [-9.57849842e-01 -1.40613544e+00  2.20057701e-01]\n",
            " [ 1.82015978e+00 -1.15548636e+00 -2.31389089e-01]\n",
            " [-1.31148032e+00 -1.30928557e+00  3.66193825e-01]\n",
            " [ 8.70423506e-01 -1.20135126e+00 -1.94115919e-01]\n",
            " [-4.31580912e-01 -1.26551061e+00  9.43218797e-02]\n",
            " [ 6.42532610e-01 -1.17257560e+00 -4.75119769e-01]\n",
            " [-1.75456053e+00 -1.29147195e+00  1.99119512e-01]\n",
            " [ 2.39481968e+00 -1.05159306e+00 -2.00931762e-01]\n",
            " [-1.47396231e+00 -1.23714260e+00 -2.86437856e-01]\n",
            " [ 2.03445748e+00 -9.52360489e-01 -5.55581670e-01]\n",
            " [-2.15244516e+00 -1.15712070e+00  8.34158785e-02]\n",
            " [ 1.55752093e+00 -9.75677856e-01 -4.84121779e-01]\n",
            " [-1.69878757e+00 -1.13449998e+00 -6.62436034e-02]\n",
            " [ 1.11857753e+00 -9.57094397e-01 -7.56842703e-01]\n",
            " [-1.02504199e+00 -1.06517509e+00  1.71159445e-01]\n",
            " [ 5.62168164e-01 -8.68897047e-01 -8.13716871e-01]\n",
            " [-1.59231990e+00 -9.75364875e-01 -2.80854145e-01]\n",
            " [ 1.78374019e+00 -7.81239761e-01  9.05336957e-01]\n",
            " [-1.85744206e+00 -9.53517749e-01  3.88961496e-01]\n",
            " [ 8.92681088e-01 -7.81354648e-01  7.01962633e-02]\n",
            " [-6.54523328e-01 -8.54789987e-01 -1.06422025e-01]\n",
            " [ 1.16270193e+00 -7.67459643e-01 -9.86273102e-02]\n",
            " [-1.11904945e+00 -8.75797844e-01 -3.51901965e-01]\n",
            " [ 4.71337946e-01 -7.66766753e-01  6.93400794e-01]\n",
            " [-4.75314553e-01 -8.04786902e-01 -6.93484540e-01]\n",
            " [-2.36846282e-01 -7.93128219e-01 -7.29214485e-01]\n",
            " [-1.35456836e-01 -7.88801956e-01 -6.27709338e-01]\n",
            " [ 4.99224424e-01 -6.88280768e-01  5.60719237e-01]\n",
            " [-5.31217261e-01 -7.34622744e-01 -3.17457904e-02]\n",
            " [-4.69945162e-01 -6.92025270e-01 -2.97727012e-01]\n",
            " [ 7.85012481e-01 -6.40256495e-01  1.28802715e+00]\n",
            " [ 7.39996455e-01 -6.37727415e-01  4.19548717e-01]\n",
            " [ 6.97575348e-01 -6.38350873e-01  1.57502923e-01]\n",
            " [ 6.51779304e-01 -6.04771873e-01  6.07742417e-01]\n",
            " [ 1.67394737e+00 -5.59969570e-01  1.41150066e+00]\n",
            " [-5.95975901e-01 -5.81903848e-01 -5.82460254e-01]\n",
            " [ 8.59165715e-01 -5.18330009e-01  5.99871561e-01]\n",
            " [ 1.44681835e+00 -4.96221617e-01  1.73713549e+00]\n",
            " [-1.11119674e+00 -6.05074836e-01 -8.78692768e-01]\n",
            " [ 1.40256419e+00 -4.58720242e-01  1.47529573e+00]\n",
            " [ 5.51622442e-01 -4.97106340e-01  1.00764141e+00]\n",
            " [ 1.22536802e+00 -4.27781452e-01  1.24504446e+00]\n",
            " [-1.27522062e+00 -5.36854240e-01 -8.19245197e-01]\n",
            " [ 2.38889332e-01 -4.69577597e-01  2.02545972e-01]\n",
            " [ 1.56108893e+00 -4.12566342e-01  1.41646627e+00]\n",
            " [-1.22452590e+00 -5.34691109e-01 -7.68492624e-01]\n",
            " [-2.36505322e-01 -4.88972590e-01 -4.38073390e-01]\n",
            " [ 1.46873497e+00 -3.80380637e-01  1.71030658e+00]\n",
            " [ 6.59161297e-01 -4.11068365e-01  1.86186154e-01]\n",
            " [ 1.12444929e+00 -3.55088214e-01  1.03830477e+00]\n",
            " [ 9.32538930e-01 -3.65353603e-01  1.23043390e+00]\n",
            " [ 1.12125390e+00 -2.01819049e-01  9.33482303e-01]\n",
            " [-7.43582301e-01 -2.83467776e-01 -5.49223490e-01]\n",
            " [ 2.47033195e-01 -2.40901795e-01  3.87628386e-01]\n",
            " [ 1.30638408e-01 -2.44385031e-01 -3.36957295e-03]\n",
            " [-8.40834938e-01 -2.87024202e-01 -7.56375247e-01]\n",
            " [ 7.51385503e-01 -2.16117943e-01  2.88721477e-01]\n",
            " [ 9.10201397e-01 -2.12011249e-01  9.41765229e-01]\n",
            " [-1.62661394e-01 -2.58976683e-01  8.72544089e-02]\n",
            " [ 1.69130628e+00 -1.75715093e-01  1.17482078e+00]\n",
            " [ 5.44469805e-01 -2.25540306e-01  1.91357794e-01]\n",
            " [-1.07930321e+00 -2.98682886e-01 -7.20645302e-01]\n",
            " [ 5.91027720e-01 -2.24147011e-01  3.47756977e-01]\n",
            " [ 6.11402452e-01 -1.12228405e-01  1.03300732e+00]\n",
            " [-9.79276100e-01 -1.79212290e-01 -7.24168659e-01]\n",
            " [-5.09851302e-01 -1.22462302e-01  2.23033486e-02]\n",
            " [ 6.85084974e-01 -6.73214206e-02  4.50086265e-01]\n",
            " [ 1.34901505e+00 -3.45858031e-03  1.61086179e+00]\n",
            " [-8.01900373e-01 -9.10843739e-02 -1.31102514e+00]\n",
            " [ 4.97782137e-01  2.02527834e-04  4.31334244e-01]\n",
            " [ 3.38966243e-01 -3.90416610e-03 -2.21709508e-01]\n",
            " [-1.21423069e-01 -2.41421860e-02 -5.72836058e-01]\n",
            " [-8.01138502e-01 -5.61120793e-02 -7.04386461e-01]\n",
            " [ 5.01918945e-01  9.72364749e-04  3.25687634e-01]\n",
            " [-5.94222804e-01 -4.66897166e-02 -6.07022778e-01]\n",
            " [ 6.87859446e-01  4.85927490e-02  2.39411151e-01]\n",
            " [-9.23503145e-01 -2.22403206e-02 -9.89531774e-01]\n",
            " [-5.53925903e-01  3.41057790e-02 -1.05664417e+00]\n",
            " [ 5.72226530e-01  8.00818073e-02  4.55051870e-01]\n",
            " [ 1.18315812e+00  1.02886847e-01  1.67051539e+00]\n",
            " [-7.85662448e-01  2.00643949e-02 -5.20128189e-01]\n",
            " [ 3.52900408e-01  6.83499339e-02  6.74628017e-01]\n",
            " [-6.82731113e-01  2.83130320e-02 -1.13070229e+00]\n",
            " [ 1.37737224e+00  1.52046905e-01  1.37294569e+00]\n",
            " [ 8.78698626e-01  1.31955265e-01  6.54126736e-01]\n",
            " [ 1.67067204e+00  1.66638557e-01  1.28232171e+00]\n",
            " [ 1.43220377e+00  1.54979874e-01  1.31805165e+00]\n",
            " [ 1.27184598e+00  1.46950806e-01  1.37708715e+00]\n",
            " [-1.11494279e+00  4.45137909e-02 -9.02637185e-01]\n",
            " [ 1.75413076e-01  1.41335930e-01 -2.67496476e-01]\n",
            " [-8.97449715e-01  9.43704962e-02 -1.12200730e+00]\n",
            " [-1.00480902e+00  1.27399228e-01 -1.11765980e+00]\n",
            " [-1.00894582e+00  1.26629391e-01 -1.01201319e+00]\n",
            " [ 1.41353233e+00  2.32072564e-01  1.02897091e+00]\n",
            " [ 2.65153969e-01  1.78324977e-01  7.57587178e-01]\n",
            " [ 8.01529563e-01  2.82364651e-01  4.20352102e-01]\n",
            " [ 3.67014127e-01  2.59670741e-01  7.53857786e-01]\n",
            " [-7.71548729e-01  2.11385202e-01 -4.40898420e-01]\n",
            " [ 2.24745464e-01  2.58643394e-01 -3.21772407e-01]\n",
            " [-1.71014961e-01  3.12822606e-01  2.74191141e-01]\n",
            " [-1.12642994e+00  2.62265497e-01  1.12919017e+00]\n",
            " [-2.39601102e-01  3.56702245e-01 -1.38436010e+00]\n",
            " [-1.15000005e+00  3.03616056e-01  3.39117365e-01]\n",
            " [ 6.07965712e-01  4.29290800e-01 -2.04420491e-01]\n",
            " [-1.18906437e+00  3.34812355e-01  1.29014289e+00]\n",
            " [ 2.07705964e+00  4.99096524e-01 -5.11077574e-02]\n",
            " [-7.42138510e-01  3.59815776e-01  6.39697377e-01]\n",
            " [ 1.52355450e+00  4.76071915e-01 -7.15032675e-01]\n",
            " [-6.91443788e-01  3.61978907e-01  6.90449951e-01]\n",
            " [-2.78956578e-01  4.29945750e-01 -1.14520779e+00]\n",
            " [-9.89171556e-01  3.88664624e-01  1.74847325e-01]\n",
            " [ 2.60793952e-01  4.99782966e-01 -2.19472816e+00]\n",
            " [-1.55846206e+00  3.97532962e-01  5.40147526e-01]\n",
            " [ 1.42263577e+00  5.48765152e-01 -9.21772361e-01]\n",
            " [-9.95141411e-01  4.26019619e-01  2.80699971e-01]\n",
            " [ 7.11873557e-02  5.28412246e-01 -2.10803960e+00]\n",
            " [-8.17474526e-01  4.72100330e-01  4.05716708e-01]\n",
            " [ 2.13283260e+00  6.56068493e-01 -3.16470873e-01]\n",
            " [-1.54712281e+00  4.72939600e-01  8.30052409e-01]\n",
            " [-2.98699193e-01  5.80135567e-01 -8.27443822e-01]\n",
            " [-1.38446127e+00  5.19863337e-01  6.65576334e-01]\n",
            " [ 3.15025018e-01  6.52832562e-01 -1.74801202e+00]\n",
            " [-1.86323086e+00  5.34670801e-01  7.37242260e-01]\n",
            " [ 8.23025274e-01  6.67388965e-01  7.80256068e-02]\n",
            " [-1.02988937e+00  5.77052463e-01  3.08971131e-01]\n",
            " [ 4.95286822e-01  6.95760735e-01 -1.01656264e+00]\n",
            " [-1.36898521e+00  5.96039811e-01  8.49834607e-01]\n",
            " [ 1.08861815e+00  7.22561339e-01 -6.97024574e-01]\n",
            " [-1.06068007e+00  6.09788436e-01  1.04870344e+00]\n",
            " [ 1.05706558e+00  7.20325018e-01 -5.63930945e-01]\n",
            " [-7.82385610e-01  6.25223115e-01  6.68586643e-01]\n",
            " [ 1.31881281e+00  7.32680349e-01 -5.21461299e-01]\n",
            " [-1.69643251e+00  5.82364375e-01  4.67119575e-01]\n",
            " [ 1.22310206e+00  7.33046297e-01 -1.44069231e+00]\n",
            " [-1.24277492e+00  6.04985095e-01  3.17460093e-01]\n",
            " [ 1.07101789e+00  7.26556903e-01 -1.59295003e+00]\n",
            " [-1.10569610e+00  6.12317516e-01  1.80225001e-01]\n",
            " [ 1.25233272e+00  7.62410164e-01  4.57011246e-01]\n",
            " [-1.43238152e+00  6.33614375e-01  4.04148647e-01]\n",
            " [ 1.95434848e-01  8.02618490e-01 -2.24383245e+00]\n",
            " [-1.60881582e+00  6.99525460e-01  7.80536048e-01]\n",
            " [ 1.18390799e+00  9.91378725e-01 -9.32911473e-02]\n",
            " [-8.69190624e-01  8.89237160e-01  5.41076725e-01]\n",
            " [ 9.41011752e-01  1.02099741e+00 -6.63787809e-01]\n",
            " [-1.57142314e+00  8.91542914e-01  9.37965408e-01]\n",
            " [ 4.43100011e-01  1.03587806e+00 -7.75968085e-01]\n",
            " [-7.46646428e-01  9.74432108e-01  9.11428226e-03]\n",
            " [ 1.02969962e+00  1.06506137e+00 -9.57216049e-01]\n",
            " [-1.27841450e+00  9.48181772e-01  1.35468209e-01]\n",
            " [ 9.09168020e-01  1.06080830e+00 -1.24256740e+00]\n",
            " [-1.33892473e+00  9.40556593e-01  1.00808811e+00]\n",
            " [ 1.63620324e+00  1.12914378e+00 -3.47979133e-01]\n",
            " [-1.48043152e+00  9.74501541e-01  5.39096593e-01]\n",
            " [ 1.88554005e+00  1.13918960e+00  1.14303437e-02]\n",
            " [-1.16644768e+00  9.92942378e-01 -7.97604390e-02]\n",
            " [ 1.95448529e+00  1.33344337e+00  3.57660755e-02]\n",
            " [-1.34578621e+00  1.17007542e+00  9.03677710e-01]\n",
            " [ 3.38385430e-01  1.41195709e+00 -5.85920067e-01]\n",
            " [-1.39553951e+00  1.32195129e+00  6.42456058e-01]\n",
            " [ 1.25887290e+00  1.49448034e+00 -5.95540183e-01]\n",
            " [-1.60428825e+00  1.35065376e+00  5.45298410e-01]\n",
            " [ 3.45587869e-01  1.48659389e+00 -1.90368574e-01]\n",
            " [-1.80216846e+00  1.37774337e+00  8.43280184e-01]\n",
            " [ 1.41218965e+00  1.61296153e+00  5.81216751e-02]\n",
            " [-1.11216681e+00  1.49219481e+00 -5.37764244e-02]\n",
            " [ 9.41402513e-01  1.67135587e+00 -7.93378836e-01]\n",
            " [-1.17634314e+00  1.56081929e+00  8.19255545e-01]\n",
            " [ 4.22044863e-01  1.64741505e+00 -9.83964740e-01]\n",
            " [-9.40469783e-01  1.57563051e+00  1.77092958e-01]\n",
            " [ 7.64256141e-01  2.04849750e+00 -1.44436224e+00]\n",
            " [-1.25777876e+00  1.93759497e+00  1.08750316e+00]\n",
            " [ 1.24182480e+00  2.33392329e+00 -5.12807814e-01]\n",
            " [-1.09370508e+00  2.21557721e+00  6.07323463e-01]\n",
            " [ 8.00447888e-01  2.54074821e+00 -2.83712528e-01]\n",
            " [-1.11970871e+00  2.44516923e+00  3.19066863e-01]\n",
            " [ 3.95410621e-01  2.94666549e+00 -1.21569978e+00]\n",
            " [-1.48800356e+00  2.84701776e+00  4.66851271e-01]]\n",
            "(200, 3)\n"
          ]
        }
      ]
    },
    {
      "cell_type": "code",
      "source": [
        "explained_variance = pca.explained_variance_ratio_\n",
        "\n",
        "print(\"Explained Variance Ratio for each component:\")\n",
        "for i, variance in enumerate(explained_variance):\n",
        "    print(f\"Principal Component {i + 1}: {variance:.4f}\")\n",
        "\n",
        "cumulative_variance = np.cumsum(pca.explained_variance_ratio_)\n",
        "cumulative_variance = np.cumsum(explained_variance)\n",
        "print(\"\\nCumulative Explained Variance:\")\n",
        "for i, cum_variance in enumerate(cumulative_variance):\n",
        "    print(f\"Principal Component {i + 1}: {cum_variance:.4f}\")\n",
        "\n",
        "plt.figure(figsize=(8, 5))\n",
        "plt.plot(np.cumsum(pca.explained_variance_ratio_), marker='o')\n",
        "plt.xlabel('Number of Components')\n",
        "plt.ylabel('Cumulative Explained Variance')\n",
        "plt.title('PCA: Explained Variance by Components')\n",
        "plt.grid(True)\n",
        "plt.show()"
      ],
      "metadata": {
        "colab": {
          "base_uri": "https://localhost:8080/",
          "height": 643
        },
        "id": "9zzIx1CIquJJ",
        "outputId": "4b01305a-01da-4b35-84ab-ffbd6cec1180"
      },
      "execution_count": null,
      "outputs": [
        {
          "output_type": "stream",
          "name": "stdout",
          "text": [
            "Explained Variance Ratio for each component:\n",
            "Principal Component 1: 0.4427\n",
            "Principal Component 2: 0.3331\n",
            "Principal Component 3: 0.2243\n",
            "\n",
            "Cumulative Explained Variance:\n",
            "Principal Component 1: 0.4427\n",
            "Principal Component 2: 0.7757\n",
            "Principal Component 3: 1.0000\n"
          ]
        },
        {
          "output_type": "display_data",
          "data": {
            "text/plain": [
              "<Figure size 800x500 with 1 Axes>"
            ],
            "image/png": "[encoded data removed]"
          },
          "metadata": {}
        }
      ]
    },
    {
      "cell_type": "markdown",
      "source": [
        "Choose the minimum number of components preserving 90–95% variance:"
      ],
      "metadata": {
        "id": "AK0ODir4vD9b"
      }
    },
    {
      "cell_type": "code",
      "source": [
        "mall_customers_pca_90 = np.argmax(cumulative_variance >= 0.90) + 1\n",
        "mall_customers_pca_95 = np.argmax(cumulative_variance >= 0.95) + 1\n",
        "\n",
        "print(f\"Number of PCA components to retain 90% variance: {mall_customers_pca_90}\")\n",
        "print(f\"Number of PCA components to retain 95% variance: {mall_customers_pca_95}\")"
      ],
      "metadata": {
        "colab": {
          "base_uri": "https://localhost:8080/"
        },
        "id": "kPK7Lt5_quCo",
        "outputId": "f2d2c7dc-7b01-472b-e716-7da735594960"
      },
      "execution_count": null,
      "outputs": [
        {
          "output_type": "stream",
          "name": "stdout",
          "text": [
            "Number of PCA components to retain 90% variance: 3\n",
            "Number of PCA components to retain 95% variance: 3\n"
          ]
        }
      ]
    },
    {
      "cell_type": "markdown",
      "source": [],
      "metadata": {
        "id": "TiG_H41RvFZD"
      }
    },
    {
      "cell_type": "code",
      "source": [],
      "metadata": {
        "colab": {
          "base_uri": "https://localhost:8080/",
          "height": 210
        },
        "id": "0PJ_xiJVqt_T",
        "outputId": "eb1bfda5-d09a-490b-a278-6ccd59ab36aa"
      },
      "execution_count": null,
      "outputs": [
        {
          "output_type": "error",
          "ename": "NameError",
          "evalue": "name 'X_pca' is not defined",
          "traceback": [
            "\u001b[0;31m---------------------------------------------------------------------------\u001b[0m",
            "\u001b[0;31mNameError\u001b[0m                                 Traceback (most recent call last)",
            "\u001b[0;32m<ipython-input-130-d22762ba00d6>\u001b[0m in \u001b[0;36m<cell line: 0>\u001b[0;34m()\u001b[0m\n\u001b[1;32m      1\u001b[0m \u001b[0;32mimport\u001b[0m \u001b[0mmatplotlib\u001b[0m\u001b[0;34m.\u001b[0m\u001b[0mpyplot\u001b[0m \u001b[0;32mas\u001b[0m \u001b[0mplt\u001b[0m\u001b[0;34m\u001b[0m\u001b[0;34m\u001b[0m\u001b[0m\n\u001b[1;32m      2\u001b[0m \u001b[0;34m\u001b[0m\u001b[0m\n\u001b[0;32m----> 3\u001b[0;31m \u001b[0mplt\u001b[0m\u001b[0;34m.\u001b[0m\u001b[0mscatter\u001b[0m\u001b[0;34m(\u001b[0m\u001b[0mX_pca\u001b[0m\u001b[0;34m[\u001b[0m\u001b[0;34m:\u001b[0m\u001b[0;34m,\u001b[0m \u001b[0;36m0\u001b[0m\u001b[0;34m]\u001b[0m\u001b[0;34m,\u001b[0m \u001b[0mX_pca\u001b[0m\u001b[0;34m[\u001b[0m\u001b[0;34m:\u001b[0m\u001b[0;34m,\u001b[0m \u001b[0;36m1\u001b[0m\u001b[0;34m]\u001b[0m\u001b[0;34m)\u001b[0m\u001b[0;34m\u001b[0m\u001b[0;34m\u001b[0m\u001b[0m\n\u001b[0m\u001b[1;32m      4\u001b[0m \u001b[0mplt\u001b[0m\u001b[0;34m.\u001b[0m\u001b[0mxlabel\u001b[0m\u001b[0;34m(\u001b[0m\u001b[0;34m'Principal Component 1'\u001b[0m\u001b[0;34m)\u001b[0m\u001b[0;34m\u001b[0m\u001b[0;34m\u001b[0m\u001b[0m\n\u001b[1;32m      5\u001b[0m \u001b[0mplt\u001b[0m\u001b[0;34m.\u001b[0m\u001b[0mylabel\u001b[0m\u001b[0;34m(\u001b[0m\u001b[0;34m'Principal Component 2'\u001b[0m\u001b[0;34m)\u001b[0m\u001b[0;34m\u001b[0m\u001b[0;34m\u001b[0m\u001b[0m\n",
            "\u001b[0;31mNameError\u001b[0m: name 'X_pca' is not defined"
          ]
        }
      ]
    },
    {
      "cell_type": "code",
      "source": [],
      "metadata": {
        "id": "ObsoErcaqt6C"
      },
      "execution_count": null,
      "outputs": []
    },
    {
      "cell_type": "code",
      "source": [],
      "metadata": {
        "id": "0Ruv6LX_qtxh"
      },
      "execution_count": null,
      "outputs": []
    },
    {
      "cell_type": "code",
      "source": [],
      "metadata": {
        "id": "M_NOiQETqto_"
      },
      "execution_count": null,
      "outputs": []
    },
    {
      "cell_type": "code",
      "source": [],
      "metadata": {
        "id": "urR76GSzqtfn"
      },
      "execution_count": null,
      "outputs": []
    },
    {
      "cell_type": "code",
      "source": [],
      "metadata": {
        "id": "8CwgHti2qtIH"
      },
      "execution_count": null,
      "outputs": []
    }
  ]
}