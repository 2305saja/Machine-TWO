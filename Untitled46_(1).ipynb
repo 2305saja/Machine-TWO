
        "eps =[0.5,0.6,0.7]\n",
        "min_samples = [10,15,20]\n",
        "\n",
        "dbscan = DBSCAN(eps=eps, min_samples=min_samples)\n",
        "dbscan_labels = dbscan.fit_predict(Card_Data[Bef_Scaling])\n",
        "\n",
        "noise_points = np.sum(dbscan_labels == -1)\n",
        "print(f\"Number of noise points: {noise_points}\")\n",
        "\n",
        "pca = PCA(n_components=2)\n",
        "X_pca = pca.fit_transform(Card_Data[Bef_Scaling])\n",
        "\n",
        "plt.figure(figsize=(12,5))\n",
        "\n",
        "plt.subplot(1,2,1)\n",
        "plt.title(\"DBSCAN Clusters\")\n",
        "plt.scatter(X_pca[:,0], X_pca[:,1], c=dbscan_labels, cmap='Paired', s=20)\n",
        "plt.xlabel('PC1')\n",
        "plt.ylabel('PC2')\n",
        "\n",
        "k = len(set(dbscan_labels)) - (1 if -1 in dbscan_labels else 0)\n",
        "kmeans = KMeans(n_clusters=k, random_state=42)\n",
        "kmeans_labels = kmeans.fit_predict(Card_Data[Bef_Scaling])\n",
        "\n",
        "plt.subplot(1,2,2)\n",
        "plt.title(\"K-Means Clusters\")\n",
        "plt.scatter(X_pca[:,0], X_pca[:,1], c=kmeans_labels, cmap='Paired', s=20)\n",
        "plt.xlabel('PC1')\n",
        "plt.ylabel('PC2')\n",
        "\n",
        "plt.tight_layout()\n",
        "plt.show()\n"
      ],
      "metadata": {
        "id": "lsJCH32QmEM_"
      },
      "execution_count": null,
      "outputs": []
    }
  ]
}
