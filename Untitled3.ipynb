{
  "nbformat": 4,
  "nbformat_minor": 0,
  "metadata": {
    "colab": {
      "provenance": []
    },
    "kernelspec": {
      "name": "python3",
      "display_name": "Python 3"
    },
    "language_info": {
      "name": "python"
    }
  },
  "cells": [
    {
      "cell_type": "code",
      "source": [
        "kmeans_standar = KMeans(n_clusters=k, init='random', random_state=42,algorithm='elkan')\n",
        "kmeans_standar.fit(Card_Data_pca)\n",
        "lable_standar=kmeans_standar.labels_\n",
        "center_random=kmeans_standar.cluster_centers_"
      ],
      "metadata": {
        "id": "LU-TMX-l5CF7"
      },
      "execution_count": null,
      "outputs": []
    },
    {
      "cell_type": "code",
      "source": [
        "kmeans_plus = KMeans(n_clusters=k, init='k-means++', random_state=42,algorithm='elkan')\n",
        "kmeans_plus.fit(Card_Data_pca)\n",
        "lable_plus=kmeans_plus.labels_\n",
        "center_plus=kmeans_plus.cluster_centers_"
      ],
      "metadata": {
        "id": "oHA6MOce5C1k"
      },
      "execution_count": null,
      "outputs": []
    },
    {
      "cell_type": "code",
      "source": [
        "fig,axs=plt.subplots(1,2,figsize=(10,5))\n",
        "\n",
        "kmeans_stan=axs[0].scatter(Card_Data.iloc[:,0],Card_Data.iloc[:,1],c=lable_standar,cmap='spring',s=20)\n",
        "axs[0].scatter(center_random[:,0],center_random[:,1],c='black',s=10,marker='X')\n",
        "axs[0].set_title('KMeans with Standar ')\n",
        "axs[0].set_xlabel('Feature 1')\n",
        "axs[0].set_ylabel('Feature 2')\n",
        "\n",
        "\n",
        "kmeans_plus=axs[1].scatter(Card_Data.iloc[:,0],Card_Data.iloc[:,1],c=lable_plus,s=20)\n",
        "axs[1].scatter(center_plus[:,0],center_plus[:,1],c='tan',s=10,marker='X')\n",
        "axs[1].set_title('KMeans with KMeans++ ')\n",
        "axs[1].set_xlabel('Feature 1')\n",
        "axs[1].set_ylabel('Feature 2')\n",
        "\n",
        "plt.tight_layout()"
      ],
      "metadata": {
        "id": "-ubu44kc5FBa"
      },
      "execution_count": null,
      "outputs": []
    },
    {
      "cell_type": "code",
      "source": [
        "# Now the variable names refer to the KMeans objects, not the scatter plots\n",
        "print('kmeans_standard inertia:', kmeans_standar.inertia_)\n",
        "print('kmeans_plus inertia:', kmeans_plus.inertia_)\n",
        "print('Standard iterations:', kmeans_standar.n_iter_)\n",
        "print('KMeans++ iterations:', kmeans_plus.n_iter_)"
      ],
      "metadata": {
        "id": "qmyiKywb5Jx2"
      },
      "execution_count": null,
      "outputs": []
    },
    {
      "cell_type": "code",
      "execution_count": null,
      "metadata": {
        "id": "_DFW7oWz4yGB"
      },
      "outputs": [],
      "source": [
        "import time\n",
        "!pip install memory_profiler\n",
        "from memory_profiler import memory_usage\n",
        "from sklearn.cluster import KMeans, MiniBatchKMeans\n",
        "from sklearn.metrics import silhouette_score\n",
        "\n",
        "k = 6\n",
        "\n",
        "start_time = time.time()\n",
        "mem_usage_kmeans = memory_usage((KMeans(n_clusters=k, random_state=42).fit, (Card_Data_pca,)))\n",
        "time_kmeans = time.time() - start_time\n",
        "\n",
        "kmeans = KMeans(n_clusters=k, random_state=42).fit(Card_Data_pca)\n",
        "silhouette_kmeans = silhouette_score(Card_Data_pca, kmeans.labels_)\n",
        "\n",
        "print(f\"KMeans Time: {time_kmeans:.4f} seconds\")\n",
        "print(f\"KMeans Memory Usage: {max(mem_usage_kmeans) - min(mem_usage_kmeans):.4f} MiB\")\n",
        "print(f\"KMeans Inertia: {kmeans.inertia_:.4f}\")\n",
        "print(f\"KMeans Silhouette Score: {silhouette_kmeans:.4f}\")\n",
        "\n",
        "start_time = time.time()\n",
        "mem_usage_minibatch = memory_usage((MiniBatchKMeans(n_clusters=k, batch_size=100, random_state=42).fit, (Card_Data_pca,)))\n",
        "time_minibatch = time.time() - start_time\n",
        "\n",
        "minibatch = MiniBatchKMeans(n_clusters=k, batch_size=100, random_state=42).fit(Card_Data_pca)\n",
        "silhouette_minibatch = silhouette_score(Card_Data_pca, minibatch.labels_)\n",
        "\n",
        "print(f\"MiniBatchKMeans Time: {time_minibatch:.4f} seconds\")\n",
        "print(f\"MiniBatchKMeans Memory Usage: {max(mem_usage_minibatch) - min(mem_usage_minibatch):.4f} MiB\")\n",
        "print(f\"MiniBatchKMeans Inertia: {minibatch.inertia_:.4f}\")\n",
        "print(f\"MiniBatchKMeans Silhouette Score: {silhouette_minibatch:.4f}\")\n"
      ]
    },
    {
      "cell_type": "code",
      "source": [
        "from sklearn.ensemble import IsolationForest\n",
        "from sklearn.svm import OneClassSVM\n",
        "from sklearn.metrics import classification_report, confusion_matrix, precision_score, recall_score, f1_score\n",
        "\n",
        "Card_WOC = Card_Data.drop('Class', axis=1)\n",
        "Class_Card = Card_Data['Class']\n",
        "\n",
        "contamination = Class_Card.sum() / len(Class_Card)\n",
        "\n",
        "forest = IsolationForest(contamination=contamination, random_state=42)\n",
        "forest.fit(Card_Data[Bef_Scaling])\n",
        "Class_iso = forest.predict(Card_Data[Bef_Scaling])\n",
        "\n",
        "Class_iso= [1 if Card_WOC== -1 else 0 for Card_WOC in Class_iso]\n",
        "\n",
        "print(\"=== Isolation Forest Performance ===\")\n",
        "print(classification_report(Class_Card, Class_iso))\n",
        "print(\"Confusion Matrix:\\n\", confusion_matrix(Class_Card, Class_iso))\n",
        "\n",
        "oc_svm = OneClassSVM(nu=contamination, kernel='rbf', gamma='scale')\n",
        "oc_svm.fit(Card_Data[Bef_Scaling])\n",
        "Class_svm = oc_svm.predict(Card_Data[Bef_Scaling])\n",
        "Class_svm = [1 if x == -1 else 0 for x in Class_svm]\n",
        "\n",
        "print(\"=== One-Class SVM Performance ===\")\n",
        "print(classification_report(Class_Card, Class_svm))\n",
        "print(\"Confusion Matrix:\\n\", confusion_matrix(Class_Card, Class_svm))\n",
        "\n",
        "precision_iso = precision_score(Class_Card, Class_iso)\n",
        "recall_iso = recall_score(Class_Card, Class_iso)\n",
        "f1_iso = f1_score(Class_Card, Class_iso)\n",
        "\n",
        "precision_svm = precision_score(Class_Card, Class_svm)\n",
        "recall_svm = recall_score(Class_Card, Class_svm)\n",
        "f1_svm = f1_score(Class_Card, Class_svm)\n",
        "\n",
        "print(f\"Isolation Forest - Precision: {precision_iso:.4f}, Recall: {recall_iso:.4f}, F1-Score: {f1_iso:.4f}\")\n",
        "print(f\"One-Class SVM    - Precision: {precision_svm:.4f}, Recall: {recall_svm:.4f}, F1-Score: {f1_svm:.4f}\")\n"
      ],
      "metadata": {
        "id": "xGFlvPUx475T"
      },
      "execution_count": null,
      "outputs": []
    }
  ]
}